{
 "cells": [
  {
   "cell_type": "markdown",
   "id": "4c20c063",
   "metadata": {},
   "source": [
    "## Import Datasets\n",
    "\n",
    "**Make sure that you've downloaded the required human and dog datasets:\n",
    "Download the dog dataset. Unzip the folder and place it in this project's home directory, at the location /dog_images.\n",
    "Download the human dataset. Unzip the folder and place it in the home directory, at location /lfw.**"
   ]
  },
  {
   "cell_type": "code",
   "execution_count": null,
   "id": "d0ed2e18",
   "metadata": {},
   "outputs": [],
   "source": [
    "!wget https://s3-us-west-1.amazonaws.com/udacity-aind/dog-project/dogImages.zip\n",
    "!wget https://s3-us-west-1.amazonaws.com/udacity-aind/dog-project/lfw.zip"
   ]
  },
  {
   "cell_type": "code",
   "execution_count": null,
   "id": "00e9af02",
   "metadata": {},
   "outputs": [],
   "source": [
    "#!unzip dogImages.zip\n",
    "#!unzip lfw.zip"
   ]
  },
  {
   "cell_type": "code",
   "execution_count": null,
   "id": "588053ec",
   "metadata": {},
   "outputs": [],
   "source": []
  },
  {
   "cell_type": "code",
   "execution_count": null,
   "id": "43bbbaeb",
   "metadata": {},
   "outputs": [],
   "source": []
  },
  {
   "cell_type": "code",
   "execution_count": null,
   "id": "c2e06c5a",
   "metadata": {},
   "outputs": [],
   "source": []
  },
  {
   "cell_type": "code",
   "execution_count": null,
   "id": "c94f832f",
   "metadata": {},
   "outputs": [],
   "source": []
  },
  {
   "cell_type": "code",
   "execution_count": null,
   "id": "815a96f1",
   "metadata": {},
   "outputs": [],
   "source": []
  }
 ],
 "metadata": {
  "kernelspec": {
   "display_name": "Python 3",
   "language": "python",
   "name": "python3"
  },
  "language_info": {
   "codemirror_mode": {
    "name": "ipython",
    "version": 3
   },
   "file_extension": ".py",
   "mimetype": "text/x-python",
   "name": "python",
   "nbconvert_exporter": "python",
   "pygments_lexer": "ipython3",
   "version": "3.6.13"
  }
 },
 "nbformat": 4,
 "nbformat_minor": 5
}
