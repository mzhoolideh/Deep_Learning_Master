{
 "cells": [
  {
   "cell_type": "markdown",
   "id": "2dc6d4b8",
   "metadata": {},
   "source": [
    "## Import Datasets\n",
    "\n",
    "**Make sure that you've downloaded the required human and dog datasets:\n",
    "Download the dog dataset. Unzip the folder and place it in this project's home directory, at the location /dog_images.\n",
    "Download the human dataset. Unzip the folder and place it in the home directory, at location /lfw.**"
   ]
  },
  {
   "cell_type": "code",
   "execution_count": null,
   "id": "1bd06ae0",
   "metadata": {},
   "outputs": [],
   "source": [
    "!wget https://s3-us-west-1.amazonaws.com/udacity-aind/dog-project/dogImages.zip\n",
    "!wget https://s3-us-west-1.amazonaws.com/udacity-aind/dog-project/lfw.zip"
   ]
  },
  {
   "cell_type": "code",
   "execution_count": null,
   "id": "f9beabbc",
   "metadata": {},
   "outputs": [],
   "source": [
    "#!unzip dogImages.zip\n",
    "#!unzip lfw.zip"
   ]
  },
  {
   "cell_type": "code",
   "execution_count": null,
   "id": "eb7d24e3",
   "metadata": {},
   "outputs": [],
   "source": [
    "from glob import glob\n",
    "\n",
    "# load filenames for human and dog images\n",
    "human_files = np.array(glob(\"./lfw/*/*\"))\n",
    "dog_files = np.array(glob(\"./dogImages/*/*/*\"))\n",
    "\n",
    "# print number of images in each dataset\n",
    "print('There are %d total human images.' % len(human_files))\n",
    "print('There are %d total dog images.' % len(dog_files))"
   ]
  },
  {
   "cell_type": "code",
   "execution_count": null,
   "id": "dddabf5e",
   "metadata": {},
   "outputs": [],
   "source": []
  },
  {
   "cell_type": "code",
   "execution_count": null,
   "id": "29f32d6d",
   "metadata": {},
   "outputs": [],
   "source": []
  },
  {
   "cell_type": "code",
   "execution_count": null,
   "id": "f5ff96dc",
   "metadata": {},
   "outputs": [],
   "source": []
  },
  {
   "cell_type": "code",
   "execution_count": null,
   "id": "b8be35e9",
   "metadata": {},
   "outputs": [],
   "source": []
  }
 ],
 "metadata": {
  "kernelspec": {
   "display_name": "Python 3",
   "language": "python",
   "name": "python3"
  },
  "language_info": {
   "codemirror_mode": {
    "name": "ipython",
    "version": 3
   },
   "file_extension": ".py",
   "mimetype": "text/x-python",
   "name": "python",
   "nbconvert_exporter": "python",
   "pygments_lexer": "ipython3",
   "version": "3.6.13"
  }
 },
 "nbformat": 4,
 "nbformat_minor": 5
}
