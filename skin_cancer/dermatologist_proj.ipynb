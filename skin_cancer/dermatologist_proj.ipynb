{
 "cells": [
  {
   "cell_type": "markdown",
   "id": "846283af",
   "metadata": {},
   "source": [
    "# Downloading data"
   ]
  },
  {
   "cell_type": "code",
   "execution_count": null,
   "id": "d53792ab",
   "metadata": {},
   "outputs": [],
   "source": [
    "#mkdir train valid test \n",
    "\n",
    "def download(url, destination_folder='.'):\n",
    "  !wget -nc -q --show-progress $url -P $destination_folder\n",
    "\n",
    "phases = ['train', 'valid', 'test']\n",
    "for phase in phases:\n",
    "  download(f'https://s3-us-west-1.amazonaws.com/udacity-dlnfd/datasets/skin-cancer/{phase}.zip', phase)"
   ]
  },
  {
   "cell_type": "code",
   "execution_count": null,
   "id": "f2c30096",
   "metadata": {},
   "outputs": [],
   "source": [
    "import zipfile\n",
    "\n",
    "from tqdm import tqdm_notebook as tqdm\n",
    "\n",
    "for phase in phases:\n",
    "  with zipfile.ZipFile(os.path.join(phase, f'{phase}.zip'), 'r') as myzip:\n",
    "    for file in tqdm(myzip.namelist(), desc=f'Extracting {phase}.zip'):\n",
    "      myzip.extract(member=file, path=phase)"
   ]
  },
  {
   "cell_type": "code",
   "execution_count": null,
   "id": "04e6aca5",
   "metadata": {},
   "outputs": [],
   "source": [
    "phases = ['train', 'valid', 'test']\n",
    "\n",
    "data_root = os.path.join(os.getcwd())\n",
    "data_dir = {phase:os.path.join(data_root, phase, phase) for phase in phases}"
   ]
  },
  {
   "cell_type": "code",
   "execution_count": null,
   "id": "55d80af4",
   "metadata": {},
   "outputs": [],
   "source": [
    "#data_dir['test']\n",
    "data_dir"
   ]
  },
  {
   "cell_type": "code",
   "execution_count": null,
   "id": "a42eb7b9",
   "metadata": {},
   "outputs": [],
   "source": [
    "# There are three different classes\n",
    "\n",
    "import glob\n",
    "classes = ['melanoma', 'nevus', 'seborrheic_keratosis']\n",
    "classes"
   ]
  },
  {
   "cell_type": "code",
   "execution_count": null,
   "id": "5819bb4b",
   "metadata": {},
   "outputs": [],
   "source": [
    "import seaborn as sns\n",
    "import warnings\n",
    "import pandas as pd\n",
    "import numpy as np\n",
    "\n",
    "def print_images_distribution(plot=False):\n",
    "  \n",
    "  image_repartition = pd.DataFrame(index=[d.split(os.path.sep)[-1] for d in data_dir.values()], columns=classes)\n",
    "  plot_data = pd.DataFrame(columns=['Class', 'Phase', 'Count'])\n",
    "  \n",
    "  for phase in [d.split(os.path.sep)[-1] for d in data_dir.values()]:\n",
    "    for disease in classes:\n",
    "      count =  len(glob.glob(os.path.join(data_root, phase, phase, disease, '*.jpg')))\n",
    "      image_repartition.loc[phase][disease] = count\n",
    "      plot_data = plot_data.append({'Class': disease, 'Phase': phase, 'Count': count}, ignore_index=True)\n",
    "\n",
    "  image_repartition.loc['TOTAL'] = image_repartition.sum(axis=0)          \n",
    "  image_repartition['TOTAL'] = image_repartition.sum(axis=1).astype(int)\n",
    "  image_repartition['Ratio'] = np.round(image_repartition.TOTAL / (image_repartition.TOTAL.sum() - image_repartition.TOTAL[-1]), 2)\n",
    "  \n",
    "  if plot:\n",
    "    sns.set_style(\"whitegrid\")\n",
    "    sns.barplot(x='Class', y='Count', hue='Phase', data=plot_data, palette='Blues')\n",
    "\n",
    "  return image_repartition"
   ]
  },
  {
   "cell_type": "code",
   "execution_count": null,
   "id": "b0fd4bc6",
   "metadata": {},
   "outputs": [],
   "source": [
    "print_images_distribution(True)"
   ]
  },
  {
   "cell_type": "code",
   "execution_count": null,
   "id": "f97b01c4",
   "metadata": {},
   "outputs": [],
   "source": [
    "import tensorflow as tf\n",
    "from tensorflow import keras\n",
    "from tensorflow.keras.preprocessing import image_dataset_from_directory\n",
    "\n",
    "train_set = image_dataset_from_directory(data_dir['train'],\n",
    "                                             shuffle=True,\n",
    "                                             batch_size=32,\n",
    "                                             image_size=(150, 150))\n",
    "\n",
    "val_set = image_dataset_from_directory(data_dir['valid'],\n",
    "                                             shuffle=True,\n",
    "                                             batch_size=32,\n",
    "                                             image_size=(150, 150))\n",
    "\n",
    "\n",
    "test_set = image_dataset_from_directory(data_dir['test'],\n",
    "                                             shuffle=True,\n",
    "                                             batch_size=32,\n",
    "                                             image_size=(150, 150))\n",
    "\n"
   ]
  },
  {
   "cell_type": "code",
   "execution_count": null,
   "id": "0420b72d",
   "metadata": {},
   "outputs": [],
   "source": [
    "data_augmentation = keras.Sequential(\n",
    "    [       keras.layers.experimental.preprocessing.RandomFlip(\"horizontal\"),\n",
    "   keras.layers.experimental.preprocessing.RandomRotation(0.2),\n",
    "    ]\n",
    ")"
   ]
  },
  {
   "cell_type": "code",
   "execution_count": null,
   "id": "4815deae",
   "metadata": {},
   "outputs": [],
   "source": [
    "import numpy as np\n",
    "import matplotlib.pyplot as plt\n",
    "for images, labels in val_set.take(1):\n",
    "    plt.figure(figsize=(12, 12))\n",
    "    first_image = images[0]\n",
    "    for i in range(12):\n",
    "        ax = plt.subplot(3, 4, i + 1)\n",
    "        augmented_image = data_augmentation(\n",
    "            tf.expand_dims(first_image, 0)\n",
    "        )\n",
    "        plt.imshow(augmented_image[0].numpy().astype(\"int32\"))\n",
    "        plt.axis(\"off\")"
   ]
  },
  {
   "cell_type": "code",
   "execution_count": null,
   "id": "0e6906e3",
   "metadata": {},
   "outputs": [],
   "source": [
    "plt.figure(figsize=(10, 10))\n",
    "for images, labels in val_set.take(1):\n",
    "    for i in range(9):\n",
    "        ax = plt.subplot(3, 3, i + 1)\n",
    "        plt.imshow(images[i].numpy().astype(\"uint8\"))\n",
    "        plt.title(int(labels[i]))\n",
    "        plt.axis(\"off\")"
   ]
  },
  {
   "cell_type": "code",
   "execution_count": null,
   "id": "95301759",
   "metadata": {},
   "outputs": [],
   "source": [
    "# In the following , we take the same approach as for Dog_bread project\n",
    "base_model = keras.applications.Xception(\n",
    "    weights='imagenet',  \n",
    "    input_shape=(150, 150, 3),\n",
    "    include_top=False) "
   ]
  },
  {
   "cell_type": "code",
   "execution_count": null,
   "id": "9052a90d",
   "metadata": {},
   "outputs": [],
   "source": [
    "base_model.trainable = False\n",
    "inputs = keras.Input(shape=(150, 150, 3))\n",
    "x = data_augmentation(inputs) \n"
   ]
  },
  {
   "cell_type": "code",
   "execution_count": null,
   "id": "dc2063af",
   "metadata": {},
   "outputs": [],
   "source": [
    "x = tf.keras.applications.xception.preprocess_input(x)\n"
   ]
  },
  {
   "cell_type": "code",
   "execution_count": null,
   "id": "e2f5f8d5",
   "metadata": {},
   "outputs": [],
   "source": [
    "x = base_model(x, training=False)\n",
    "x = keras.layers.GlobalAveragePooling2D()(x)\n",
    "x = keras.layers.Dropout(0.2)(x)  \n",
    "outputs = keras.layers.Dense(3, activation='softmax')(x)\n",
    "model = keras.Model(inputs, outputs)"
   ]
  },
  {
   "cell_type": "code",
   "execution_count": null,
   "id": "14f1d53b",
   "metadata": {},
   "outputs": [],
   "source": [
    "model.compile(optimizer='adam', loss='sparse_categorical_crossentropy' ,metrics=['accuracy'])\n",
    "model.fit(train_set, epochs=5, validation_data=val_set)"
   ]
  },
  {
   "cell_type": "code",
   "execution_count": null,
   "id": "9c26b92b",
   "metadata": {},
   "outputs": [],
   "source": []
  },
  {
   "cell_type": "code",
   "execution_count": null,
   "id": "2b4ac200",
   "metadata": {},
   "outputs": [],
   "source": []
  }
 ],
 "metadata": {
  "kernelspec": {
   "display_name": "Python 3",
   "language": "python",
   "name": "python3"
  },
  "language_info": {
   "codemirror_mode": {
    "name": "ipython",
    "version": 3
   },
   "file_extension": ".py",
   "mimetype": "text/x-python",
   "name": "python",
   "nbconvert_exporter": "python",
   "pygments_lexer": "ipython3",
   "version": "3.9.1"
  }
 },
 "nbformat": 4,
 "nbformat_minor": 5
}
