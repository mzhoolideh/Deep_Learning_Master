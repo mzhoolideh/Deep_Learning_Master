{
 "cells": [
  {
   "cell_type": "markdown",
   "id": "75b51f81",
   "metadata": {},
   "source": [
    "# Downloading data"
   ]
  },
  {
   "cell_type": "code",
   "execution_count": null,
   "id": "95ca4a3a",
   "metadata": {},
   "outputs": [],
   "source": [
    "#mkdir train valid test \n",
    "\n",
    "def download(url, destination_folder='.'):\n",
    "  !wget -nc -q --show-progress $url -P $destination_folder\n",
    "\n",
    "phases = ['train', 'valid', 'test']\n",
    "for phase in phases:\n",
    "  download(f'https://s3-us-west-1.amazonaws.com/udacity-dlnfd/datasets/skin-cancer/{phase}.zip', phase)"
   ]
  }
 ],
 "metadata": {
  "kernelspec": {
   "display_name": "Python 3",
   "language": "python",
   "name": "python3"
  },
  "language_info": {
   "codemirror_mode": {
    "name": "ipython",
    "version": 3
   },
   "file_extension": ".py",
   "mimetype": "text/x-python",
   "name": "python",
   "nbconvert_exporter": "python",
   "pygments_lexer": "ipython3",
   "version": "3.9.1"
  }
 },
 "nbformat": 4,
 "nbformat_minor": 5
}
