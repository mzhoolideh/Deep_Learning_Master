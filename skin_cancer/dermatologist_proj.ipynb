{
 "cells": [
  {
   "cell_type": "markdown",
   "id": "749990e1",
   "metadata": {},
   "source": [
    "# Downloading data"
   ]
  },
  {
   "cell_type": "code",
   "execution_count": null,
   "id": "6046ca90",
   "metadata": {},
   "outputs": [],
   "source": [
    "#mkdir train valid test \n",
    "\n",
    "def download(url, destination_folder='.'):\n",
    "  !wget -nc -q --show-progress $url -P $destination_folder\n",
    "\n",
    "phases = ['train', 'valid', 'test']\n",
    "for phase in phases:\n",
    "  download(f'https://s3-us-west-1.amazonaws.com/udacity-dlnfd/datasets/skin-cancer/{phase}.zip', phase)"
   ]
  },
  {
   "cell_type": "code",
   "execution_count": null,
   "id": "5b21e618",
   "metadata": {},
   "outputs": [],
   "source": [
    "import zipfile\n",
    "\n",
    "from tqdm import tqdm_notebook as tqdm\n",
    "\n",
    "for phase in phases:\n",
    "  with zipfile.ZipFile(os.path.join(phase, f'{phase}.zip'), 'r') as myzip:\n",
    "    for file in tqdm(myzip.namelist(), desc=f'Extracting {phase}.zip'):\n",
    "      myzip.extract(member=file, path=phase)"
   ]
  },
  {
   "cell_type": "code",
   "execution_count": null,
   "id": "0213787f",
   "metadata": {},
   "outputs": [],
   "source": [
    "phases = ['train', 'valid', 'test']\n",
    "\n",
    "data_root = os.path.join(os.getcwd())\n",
    "data_dir = {phase:os.path.join(data_root, phase, phase) for phase in phases}"
   ]
  },
  {
   "cell_type": "code",
   "execution_count": null,
   "id": "bc31a8fb",
   "metadata": {},
   "outputs": [],
   "source": [
    "#data_dir['test']\n",
    "data_dir"
   ]
  },
  {
   "cell_type": "code",
   "execution_count": null,
   "id": "3fa03c86",
   "metadata": {},
   "outputs": [],
   "source": [
    "# There are three different classes\n",
    "\n",
    "import glob\n",
    "classes = ['melanoma', 'nevus', 'seborrheic_keratosis']\n",
    "classes"
   ]
  },
  {
   "cell_type": "code",
   "execution_count": null,
   "id": "611fcf75",
   "metadata": {},
   "outputs": [],
   "source": [
    "import seaborn as sns\n",
    "import warnings\n",
    "import pandas as pd\n",
    "import numpy as np\n",
    "\n",
    "def print_images_distribution(plot=False):\n",
    "  \n",
    "  image_repartition = pd.DataFrame(index=[d.split(os.path.sep)[-1] for d in data_dir.values()], columns=classes)\n",
    "  plot_data = pd.DataFrame(columns=['Class', 'Phase', 'Count'])\n",
    "  \n",
    "  for phase in [d.split(os.path.sep)[-1] for d in data_dir.values()]:\n",
    "    for disease in classes:\n",
    "      count =  len(glob.glob(os.path.join(data_root, phase, phase, disease, '*.jpg')))\n",
    "      image_repartition.loc[phase][disease] = count\n",
    "      plot_data = plot_data.append({'Class': disease, 'Phase': phase, 'Count': count}, ignore_index=True)\n",
    "\n",
    "  image_repartition.loc['TOTAL'] = image_repartition.sum(axis=0)          \n",
    "  image_repartition['TOTAL'] = image_repartition.sum(axis=1).astype(int)\n",
    "  image_repartition['Ratio'] = np.round(image_repartition.TOTAL / (image_repartition.TOTAL.sum() - image_repartition.TOTAL[-1]), 2)\n",
    "  \n",
    "  if plot:\n",
    "    sns.set_style(\"whitegrid\")\n",
    "    sns.barplot(x='Class', y='Count', hue='Phase', data=plot_data, palette='Blues')\n",
    "\n",
    "  return image_repartition"
   ]
  },
  {
   "cell_type": "code",
   "execution_count": null,
   "id": "712f962e",
   "metadata": {},
   "outputs": [],
   "source": [
    "print_images_distribution(True)"
   ]
  },
  {
   "cell_type": "code",
   "execution_count": null,
   "id": "d50f6d1a",
   "metadata": {},
   "outputs": [],
   "source": [
    "import tensorflow as tf\n",
    "from tensorflow import keras\n",
    "from tensorflow.keras.preprocessing import image_dataset_from_directory\n",
    "\n",
    "train_set = image_dataset_from_directory(data_dir['train'],\n",
    "                                             shuffle=True,\n",
    "                                             batch_size=32,\n",
    "                                             image_size=(150, 150))\n",
    "\n",
    "val_set = image_dataset_from_directory(data_dir['valid'],\n",
    "                                             shuffle=True,\n",
    "                                             batch_size=32,\n",
    "                                             image_size=(150, 150))\n",
    "\n",
    "\n",
    "test_set = image_dataset_from_directory(data_dir['test'],\n",
    "                                             shuffle=True,\n",
    "                                             batch_size=32,\n",
    "                                             image_size=(150, 150))\n",
    "\n"
   ]
  },
  {
   "cell_type": "code",
   "execution_count": null,
   "id": "77c15a8b",
   "metadata": {},
   "outputs": [],
   "source": []
  },
  {
   "cell_type": "code",
   "execution_count": null,
   "id": "90155ed6",
   "metadata": {},
   "outputs": [],
   "source": []
  }
 ],
 "metadata": {
  "kernelspec": {
   "display_name": "Python 3",
   "language": "python",
   "name": "python3"
  },
  "language_info": {
   "codemirror_mode": {
    "name": "ipython",
    "version": 3
   },
   "file_extension": ".py",
   "mimetype": "text/x-python",
   "name": "python",
   "nbconvert_exporter": "python",
   "pygments_lexer": "ipython3",
   "version": "3.9.1"
  }
 },
 "nbformat": 4,
 "nbformat_minor": 5
}
